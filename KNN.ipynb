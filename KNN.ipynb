{
  "nbformat": 4,
  "nbformat_minor": 0,
  "metadata": {
    "colab": {
      "name": "KNN.ipynb",
      "provenance": [],
      "collapsed_sections": [],
      "mount_file_id": "1qg8NHe2izjTanwhpNpoTWBGDkwKu7eeE",
      "authorship_tag": "ABX9TyNGOcqvmT1IQNxPqAdgiqzt",
      "include_colab_link": true
    },
    "kernelspec": {
      "name": "python3",
      "display_name": "Python 3"
    }
  },
  "cells": [
    {
      "cell_type": "markdown",
      "metadata": {
        "id": "view-in-github",
        "colab_type": "text"
      },
      "source": [
        "<a href=\"https://colab.research.google.com/github/nayan89/ML/blob/main/KNN.ipynb\" target=\"_parent\"><img src=\"https://colab.research.google.com/assets/colab-badge.svg\" alt=\"Open In Colab\"/></a>"
      ]
    },
    {
      "cell_type": "code",
      "metadata": {
        "id": "lgP-EfW4P7nm"
      },
      "source": [
        "import numpy as np\n",
        "import pandas as pd\n",
        "from collections import Counter"
      ],
      "execution_count": null,
      "outputs": []
    },
    {
      "cell_type": "code",
      "metadata": {
        "id": "B4XtqPg5QMGI"
      },
      "source": [
        "X_test = np.loadtxt('/content/drive/MyDrive/Data/X_test.txt')\n",
        "X_train = np.loadtxt('/content/drive/MyDrive/Data/X_train.txt')\n",
        "y_test = np.loadtxt('/content/drive/MyDrive/Data/Y_test.txt')\n",
        "y_train = np.loadtxt('/content/drive/MyDrive/Data/Y_train.txt')"
      ],
      "execution_count": null,
      "outputs": []
    },
    {
      "cell_type": "code",
      "metadata": {
        "colab": {
          "base_uri": "https://localhost:8080/"
        },
        "id": "_CjipFxYS_Lk",
        "outputId": "90982157-fd3b-476e-9862-e93c818b7a54"
      },
      "source": [
        "X_test.shape, X_train.shape, y_test.shape, y_train.shape"
      ],
      "execution_count": null,
      "outputs": [
        {
          "output_type": "execute_result",
          "data": {
            "text/plain": [
              "((297, 3), (2997, 3), (297,), (2997,))"
            ]
          },
          "metadata": {
            "tags": []
          },
          "execution_count": 3
        }
      ]
    },
    {
      "cell_type": "code",
      "metadata": {
        "id": "7-hn5YAvTDfW"
      },
      "source": [
        "from sklearn.neighbors import KNeighborsClassifier\n",
        "from sklearn.metrics import accuracy_score"
      ],
      "execution_count": null,
      "outputs": []
    },
    {
      "cell_type": "code",
      "metadata": {
        "id": "RrfAt1WmTvjF"
      },
      "source": [
        "knn = KNeighborsClassifier(n_neighbors=1)"
      ],
      "execution_count": null,
      "outputs": []
    },
    {
      "cell_type": "code",
      "metadata": {
        "colab": {
          "base_uri": "https://localhost:8080/"
        },
        "id": "QbDHItpNTzZ4",
        "outputId": "f674f0ef-c272-494b-c101-03df92ea51db"
      },
      "source": [
        "knn.fit(X_train, y_train)"
      ],
      "execution_count": null,
      "outputs": [
        {
          "output_type": "execute_result",
          "data": {
            "text/plain": [
              "KNeighborsClassifier(algorithm='auto', leaf_size=30, metric='minkowski',\n",
              "                     metric_params=None, n_jobs=None, n_neighbors=1, p=2,\n",
              "                     weights='uniform')"
            ]
          },
          "metadata": {
            "tags": []
          },
          "execution_count": 6
        }
      ]
    },
    {
      "cell_type": "code",
      "metadata": {
        "id": "k6GOioqyT3Ur"
      },
      "source": [
        "pred = knn.predict(X_test)"
      ],
      "execution_count": null,
      "outputs": []
    },
    {
      "cell_type": "code",
      "metadata": {
        "colab": {
          "base_uri": "https://localhost:8080/"
        },
        "id": "V9jOs65ST9S0",
        "outputId": "05b6ba7c-30b2-4668-aff3-5e79f2a36404"
      },
      "source": [
        "print(\"accuracy: {}\".format(accuracy_score(y_test, pred)))"
      ],
      "execution_count": null,
      "outputs": [
        {
          "output_type": "stream",
          "text": [
            "accuracy: 0.8316498316498316\n"
          ],
          "name": "stdout"
        }
      ]
    },
    {
      "cell_type": "markdown",
      "metadata": {
        "id": "Ru_rw8yAVLgQ"
      },
      "source": [
        "KNN From Scratch"
      ]
    },
    {
      "cell_type": "code",
      "metadata": {
        "id": "_LXvCbFuVODQ"
      },
      "source": [
        "def train(X_train, y_train):\n",
        "  return"
      ],
      "execution_count": null,
      "outputs": []
    },
    {
      "cell_type": "code",
      "metadata": {
        "id": "k2Gf_Rm7Wk-D"
      },
      "source": [
        "def predict(X_train, y_train,X_test, k):\n",
        "  #create list for distances and targets\n",
        "  distances = []\n",
        "  targets = []\n",
        "\n",
        "  for i in range(len(X_train)):\n",
        "    #compute and store L2 distance\n",
        "    distances.append([np.sqrt(np.sum(np.square(X_test-X_train[i,:]))), i])\n",
        "  #sort the list\n",
        "  distances = sorted(distances)\n",
        "  #make a list of the k neighbors' targets\n",
        "  for i in range(k):\n",
        "    index = distances[i][1]\n",
        "    targets.append(y_train[index])\n",
        "  # return most common target\n",
        "  return Counter(targets).most_common(1)[0][0]"
      ],
      "execution_count": null,
      "outputs": []
    },
    {
      "cell_type": "code",
      "metadata": {
        "id": "R4VuGFAOWlRU"
      },
      "source": [
        "def k_nearest_neighbor(X_train, y_train, X_test, k):\n",
        "  # train on the input data\n",
        "  train(X_train, y_train)\n",
        "  # loop over all observations\n",
        "  predictions = []\n",
        "  for i in range(len(X_test)):\n",
        "    predictions.append(predict(X_train, y_train, X_test[i,:], k))\n",
        "\n",
        "  return np.asarray(predictions)"
      ],
      "execution_count": null,
      "outputs": []
    },
    {
      "cell_type": "code",
      "metadata": {
        "colab": {
          "base_uri": "https://localhost:8080/"
        },
        "id": "si5pX6LUWlWA",
        "outputId": "5f9f1e01-0cb9-4487-e6af-d3dc60ff2346"
      },
      "source": [
        "# making out predictions\n",
        "predictions = k_nearest_neighbor(X_train, y_train, X_test, 1)\n",
        "\n",
        "#evaluating accuracy\n",
        "accuracy = accuracy_score(y_test, predictions)\n",
        "print('The accuracy of classifier is {:.4f}'. format(100*accuracy))"
      ],
      "execution_count": null,
      "outputs": [
        {
          "output_type": "stream",
          "text": [
            "The accuracy of classifier is 83.1650\n"
          ],
          "name": "stdout"
        }
      ]
    },
    {
      "cell_type": "code",
      "metadata": {
        "id": "KdgW2MfDWlbp"
      },
      "source": [
        ""
      ],
      "execution_count": null,
      "outputs": []
    }
  ]
}